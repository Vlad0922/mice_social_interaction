{
 "cells": [
  {
   "cell_type": "code",
   "execution_count": 1,
   "metadata": {},
   "outputs": [],
   "source": [
    "import os\n",
    "\n",
    "import pandas as pd\n",
    "import numpy as np\n",
    "\n",
    "import matplotlib.pyplot as plt\n",
    "%matplotlib inline"
   ]
  },
  {
   "cell_type": "code",
   "execution_count": 2,
   "metadata": {},
   "outputs": [],
   "source": [
    "def rename_column(c):\n",
    "    if '.1' in c:\n",
    "        return c[:-2] + '_y'\n",
    "    elif '.2' in c:\n",
    "        return c[:-2] + '_likelihood'\n",
    "    else:\n",
    "        return c + '_x'"
   ]
  },
  {
   "cell_type": "code",
   "execution_count": 3,
   "metadata": {},
   "outputs": [],
   "source": [
    "pixel_to_cm = 0.1"
   ]
  },
  {
   "cell_type": "code",
   "execution_count": 4,
   "metadata": {},
   "outputs": [],
   "source": [
    "cols = ['I_nose_x', 'I_nose_y', 'I_BC_x', 'I_BC_y', 'I_tail_x', 'I_tail_y', \n",
    " 'NI_nose_x', 'NI_nose_y', 'NI_BC_x', 'NI_BC_y', 'NI_tail_x', 'NI_tail_y']\n",
    "\n",
    "bodypart_coords = {'I_nose': ['I_nose_x', 'I_nose_y'],\n",
    "                   'I_BC': ['I_BC_x', 'I_BC_y'], \n",
    "                   'I_tail': ['I_tail_x', 'I_tail_y'],\n",
    "                   'NI_nose': ['NI_nose_x', 'NI_nose_y'],\n",
    "                   'NI_BC': ['NI_BC_x', 'NI_BC_y'],\n",
    "                   'NI_tail': ['NI_tail_x', 'NI_tail_y']}"
   ]
  },
  {
   "cell_type": "code",
   "execution_count": 5,
   "metadata": {},
   "outputs": [],
   "source": [
    "data_dir = 'data'\n",
    "fname = 'vlc-record-2019-01-16-13h04m56s-m62031-09032018165352-0000DeepCut_resnet50_SI_Implanted500Dec6shuffle1_1030000.csv'\n",
    "fpath = os.path.join(data_dir, fname)"
   ]
  },
  {
   "cell_type": "code",
   "execution_count": 6,
   "metadata": {},
   "outputs": [],
   "source": [
    "def load_csv(fname, cols_to_save):\n",
    "    df = pd.read_csv(fname, skiprows=1).drop('bodyparts', axis=1)\n",
    "    df = df.rename(rename_column, axis=1)\n",
    "    \n",
    "    df = pd.DataFrame(df.values[1:].astype(float), columns=df.columns)\n",
    "    df = df[cols_to_save]\n",
    "    \n",
    "    for key, val in bodypart_coords.items():\n",
    "        df[key] = df[val].apply(np.array, axis=1)\n",
    "        \n",
    "    return df[list(bodypart_coords.keys())]"
   ]
  },
  {
   "cell_type": "code",
   "execution_count": 7,
   "metadata": {},
   "outputs": [],
   "source": [
    "def get_dists(df, col1, col2):\n",
    "    return np.sqrt(((df[col1] - data[col2])**2).apply(sum))\n",
    "\n",
    "def contact(df, threshold=1):\n",
    "    dists = get_dists(df, 'I_BC', 'NI_BC')*pixel_to_cm\n",
    "    \n",
    "    return dists < threshold\n",
    "\n",
    "def oral_oral(df, threshold=1.5):\n",
    "    dists = get_dists(df, 'I_nose', 'NI_nose')*pixel_to_cm\n",
    "    \n",
    "    return dists < threshold\n",
    "    \n",
    "def imp_oral_ni_genital(df, threshold=1.5):\n",
    "    dists = get_dists(df, 'I_nose', 'NI_tail')*pixel_to_cm\n",
    "    \n",
    "    return dists < threshold\n",
    "    \n",
    "def imp_genital_ni_oral(df, threshold=1.5):\n",
    "    dists = get_dists(df, 'I_tail', 'NI_nose')*pixel_to_cm\n",
    "    \n",
    "    return dists < threshold\n",
    "\n",
    "def same_way(df, head_threshold=3, body_threshold=3):\n",
    "    scalar = np.array([np.dot(a, b) for a, b in zip(data['I_nose'] - data['I_BC'], data['NI_nose'] - data['NI_BC'])])\n",
    "    heads_distance = get_dists(df, 'I_nose', 'NI_nose')*pixel_to_cm\n",
    "    body_distance = get_dists(df, 'I_BC', 'NI_BC')*pixel_to_cm\n",
    "    \n",
    "    return (scalar > 0) & (heads_distance < head_threshold) & (body_distance < body_threshold)\n",
    "    \n",
    "def opposite_way(df, head_threshold=3, body_threshold=3):\n",
    "    scalar = np.array([np.dot(a, b) for a, b in zip(data['I_nose'] - data['I_BC'], data['NI_nose'] - data['NI_BC'])])\n",
    "    heads_distance = get_dists(df, 'I_nose', 'NI_nose')*pixel_to_cm\n",
    "    body_distance = get_dists(df, 'I_BC', 'NI_BC')*pixel_to_cm\n",
    "    \n",
    "    return (scalar < 0) & (heads_distance < head_threshold) & (body_distance < body_threshold)\n",
    "    \n",
    "def create_events(df):\n",
    "    df['contact'] = contact(df)\n",
    "    df['oral_oral'] = oral_oral(df)\n",
    "    df['imp_oral_ni_genital'] = imp_oral_ni_genital(df)\n",
    "    df['imp_genital_ni_oral'] = imp_genital_ni_oral(df)\n",
    "    df['same_way'] = same_way(df)\n",
    "    df['opposite_way'] = opposite_way(df)    "
   ]
  },
  {
   "cell_type": "code",
   "execution_count": 8,
   "metadata": {},
   "outputs": [],
   "source": [
    "data = load_csv(fpath, cols)"
   ]
  },
  {
   "cell_type": "code",
   "execution_count": 9,
   "metadata": {},
   "outputs": [],
   "source": [
    "create_events(data)"
   ]
  },
  {
   "cell_type": "code",
   "execution_count": 10,
   "metadata": {},
   "outputs": [],
   "source": [
    "events_list = ['contact', 'oral_oral', 'imp_oral_ni_genital', 'imp_genital_ni_oral', 'same_way', 'opposite_way']\n",
    "colors = [[1, 0, 0], [0, 1, 0], [0, 0, 1], [1, 1, 0], [1, 0, 1], [0, 1, 1], [0.5, 0.5, 0.5]]\n",
    "\n",
    "data_matrix = np.zeros((6, data.shape[0], 3))\n",
    "\n",
    "for idx, (event, col) in enumerate(zip(events_list, colors)):\n",
    "    color_sequence = np.multiply(np.tile(data[event].values.reshape((-1,1)), (1,3)), np.tile(col, (data.shape[0], 1)))\n",
    "    data_matrix[idx] = color_sequence"
   ]
  },
  {
   "cell_type": "code",
   "execution_count": 11,
   "metadata": {},
   "outputs": [
    {
     "data": {
      "image/png": "[encoded data removed]",
      "text/plain": [
       "<Figure size 1080x432 with 1 Axes>"
      ]
     },
     "metadata": {},
     "output_type": "display_data"
    }
   ],
   "source": [
    "fig = plt.figure(figsize=(15,6))\n",
    "plt.imshow(data_matrix, aspect='auto')\n",
    "_ = plt.yticks(np.arange(6), events_list)"
   ]
  },
  {
   "cell_type": "code",
   "execution_count": null,
   "metadata": {},
   "outputs": [],
   "source": []
  },
  {
   "cell_type": "code",
   "execution_count": null,
   "metadata": {},
   "outputs": [],
   "source": []
  },
  {
   "cell_type": "code",
   "execution_count": null,
   "metadata": {},
   "outputs": [],
   "source": []
  },
  {
   "cell_type": "code",
   "execution_count": null,
   "metadata": {},
   "outputs": [],
   "source": []
  }
 ],
 "metadata": {
  "kernelspec": {
   "display_name": "Python 3",
   "language": "python",
   "name": "python3"
  },
  "language_info": {
   "codemirror_mode": {
    "name": "ipython",
    "version": 3
   },
   "file_extension": ".py",
   "mimetype": "text/x-python",
   "name": "python",
   "nbconvert_exporter": "python",
   "pygments_lexer": "ipython3",
   "version": "3.6.5"
  }
 },
 "nbformat": 4,
 "nbformat_minor": 2
}
